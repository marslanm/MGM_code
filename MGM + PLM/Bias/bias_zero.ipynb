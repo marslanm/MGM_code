{
 "cells": [
  {
   "cell_type": "code",
   "execution_count": 1,
   "metadata": {},
   "outputs": [],
   "source": [
    "import pandas as pd\n",
    "from sklearn.linear_model import LogisticRegression\n",
    "from pathlib import Path\n",
    "import os\n",
    "import numpy as np\n",
    "import sys\n",
    "from sklearn.metrics import accuracy_score, f1_score, recall_score\n",
    "root = Path('')\n",
    "encoder = {'left': 0, 'center': 1, 'right': 2}\n",
    "classes = list(encoder.keys())"
   ]
  },
  {
   "cell_type": "code",
   "execution_count": 7,
   "metadata": {},
   "outputs": [],
   "source": [
    "def change_prob_to_zero(X_train, X_test):\n",
    "    df = pd.read_csv(os.path.join(os.path.dirname(os.getcwd()), 'bias', 'train.csv'))\n",
    "    df_2 = pd.read_pickle(os.path.join(os.path.dirname(os.getcwd()), 'Data', 'article.pkl'))\n",
    "    df_2['website'] = df_2['source_url'].str.strip('https://').str.strip('www.')\n",
    "\n",
    "    to_zero_train = df[~df['website'].isin(df_2['website'])][['website', 'target']]\n",
    "    mask_train = X_train['website'].isin(to_zero_train['website']) & X_train['target'].isin(to_zero_train['target'])\n",
    "\n",
    "    df = pd.read_csv(os.path.join(os.path.dirname(os.getcwd()), 'bias', 'test.csv'))\n",
    "    df_2 = pd.read_pickle(os.path.join(os.path.dirname(os.getcwd()), 'Data', 'article.pkl'))\n",
    "    df_2['website'] = df_2['source_url'].str.strip('https://').str.strip('www.')\n",
    "\n",
    "    to_zero_test = df[~df['website'].isin(df_2['website'])][['website', 'target']]\n",
    "    mask_test = X_test['website'].isin(to_zero_test['website']) & X_test['target'].isin(to_zero_test['target'])\n",
    "    X_train.loc[mask_train, classes] = 0\n",
    "    X_test.loc[mask_test, classes] = 0\n",
    "    return X_train, X_test\n",
    "\n",
    "def log_reg(X_train, X_test):\n",
    "    clf = LogisticRegression()\n",
    "    clf.fit(X_train[classes], X_train['target'])\n",
    "    y_pred = clf.predict(X_test[classes])\n",
    "    y_test = X_test['target']\n",
    "    accuracy = accuracy_score(y_test, y_pred)\n",
    "    macro_f1 = f1_score(y_test, y_pred, average='macro')\n",
    "    avg_recall = recall_score(y_test, y_pred, average='macro')\n",
    "    print(\"Accuracy:\", accuracy)\n",
    "    print(\"Macro-F1 Score:\", macro_f1)\n",
    "    print(\"Average Recall:\", avg_recall)"
   ]
  },
  {
   "cell_type": "markdown",
   "metadata": {},
   "source": [
    "### Bert - article"
   ]
  },
  {
   "cell_type": "code",
   "execution_count": 8,
   "metadata": {},
   "outputs": [
    {
     "name": "stdout",
     "output_type": "stream",
     "text": [
      "Accuracy: 0.6569767441860465\n",
      "Macro-F1 Score: 0.633422994689289\n",
      "Average Recall: 0.6241247505327605\n"
     ]
    }
   ],
   "source": [
    "X_train = pd.read_pickle(root / 'probability/bert-base-uncased_train_prob_bias_article.pkl')\n",
    "X_test = pd.read_pickle(root / 'probability/bert-base-uncased_test_prob_bias_article.pkl')\n",
    "X_train, X_test = change_prob_to_zero(X_train, X_test)\n",
    "log_reg(X_train, X_test)"
   ]
  },
  {
   "cell_type": "markdown",
   "metadata": {},
   "source": [
    "### Bert description"
   ]
  },
  {
   "cell_type": "code",
   "execution_count": 9,
   "metadata": {},
   "outputs": [
    {
     "name": "stdout",
     "output_type": "stream",
     "text": [
      "Accuracy: 0.6337209302325582\n",
      "Macro-F1 Score: 0.5965277777777778\n",
      "Average Recall: 0.5914752887456353\n"
     ]
    }
   ],
   "source": [
    "X_train = pd.read_pickle(root / 'probability/bert-base-uncased_train_prob_bias_description.pkl')\n",
    "X_test = pd.read_pickle(root / 'probability/bert-base-uncased_test_prob_bias_description.pkl')\n",
    "X_train, X_test = change_prob_to_zero(X_train, X_test)\n",
    "log_reg(X_train, X_test)"
   ]
  },
  {
   "cell_type": "markdown",
   "metadata": {},
   "source": [
    "### RoBerta - article"
   ]
  },
  {
   "cell_type": "code",
   "execution_count": 13,
   "metadata": {},
   "outputs": [
    {
     "name": "stdout",
     "output_type": "stream",
     "text": [
      "Accuracy: 0.6744186046511628\n",
      "Macro-F1 Score: 0.653750111676941\n",
      "Average Recall: 0.6391134563850459\n"
     ]
    }
   ],
   "source": [
    "X_train = pd.read_pickle(root / 'probability/berta-base_train_prob_bias_article.pkl')\n",
    "X_test = pd.read_pickle(root / 'probability/berta-base_test_prob_bias_article.pkl')\n",
    "X_train, X_test = change_prob_to_zero(X_train, X_test)\n",
    "log_reg(X_train, X_test)"
   ]
  },
  {
   "cell_type": "markdown",
   "metadata": {},
   "source": [
    "### RoBerta description"
   ]
  },
  {
   "cell_type": "code",
   "execution_count": 14,
   "metadata": {},
   "outputs": [
    {
     "name": "stdout",
     "output_type": "stream",
     "text": [
      "Accuracy: 0.627906976744186\n",
      "Macro-F1 Score: 0.5870340946175122\n",
      "Average Recall: 0.5869090786999731\n"
     ]
    }
   ],
   "source": [
    "X_train = pd.read_pickle(root / 'probability/berta-base_train_prob_bias_description.pkl')\n",
    "X_test = pd.read_pickle(root / 'probability/berta-base_test_prob_bias_description.pkl')\n",
    "X_train, X_test = change_prob_to_zero(X_train, X_test)\n",
    "log_reg(X_train, X_test)"
   ]
  },
  {
   "cell_type": "markdown",
   "metadata": {},
   "source": [
    "### Distil Bert - article"
   ]
  },
  {
   "cell_type": "code",
   "execution_count": 16,
   "metadata": {},
   "outputs": [
    {
     "name": "stdout",
     "output_type": "stream",
     "text": [
      "Accuracy: 0.6802325581395349\n",
      "Macro-F1 Score: 0.6503927008709816\n",
      "Average Recall: 0.6401113253428647\n"
     ]
    }
   ],
   "source": [
    "X_train = pd.read_pickle(root / 'probability/distilbert-base-uncased_train_prob_bias_article.pkl')\n",
    "X_test = pd.read_pickle(root / 'probability/distilbert-base-uncased_test_prob_bias_article.pkl')\n",
    "X_train, X_test = change_prob_to_zero(X_train, X_test)\n",
    "log_reg(X_train, X_test)"
   ]
  },
  {
   "cell_type": "markdown",
   "metadata": {},
   "source": [
    "### Distil Bert description"
   ]
  },
  {
   "cell_type": "code",
   "execution_count": 17,
   "metadata": {},
   "outputs": [
    {
     "name": "stdout",
     "output_type": "stream",
     "text": [
      "Accuracy: 0.627906976744186\n",
      "Macro-F1 Score: 0.5872171563660925\n",
      "Average Recall: 0.5869090786999731\n"
     ]
    }
   ],
   "source": [
    "X_train = pd.read_pickle(root / 'probability/distilbert-base-uncased_train_prob_bias_description.pkl')\n",
    "X_test = pd.read_pickle(root / 'probability/distilbert-base-uncased_test_prob_bias_description.pkl')\n",
    "X_train, X_test = change_prob_to_zero(X_train, X_test)\n",
    "log_reg(X_train, X_test)"
   ]
  },
  {
   "cell_type": "markdown",
   "metadata": {},
   "source": [
    "### DeBerta v3 - article"
   ]
  },
  {
   "cell_type": "code",
   "execution_count": 19,
   "metadata": {},
   "outputs": [
    {
     "name": "stdout",
     "output_type": "stream",
     "text": [
      "Accuracy: 0.627906976744186\n",
      "Macro-F1 Score: 0.5872171563660925\n",
      "Average Recall: 0.5869090786999731\n"
     ]
    }
   ],
   "source": [
    "X_train_article = pd.read_pickle(root / 'probability/deberta-v3-base_train_prob_bias_article.pkl')\n",
    "X_test_article = pd.read_pickle(root / 'probability/deberta-v3-base_test_prob_bias_article.pkl')\n",
    "X_train, X_test = change_prob_to_zero(X_train, X_test)\n",
    "log_reg(X_train, X_test)"
   ]
  },
  {
   "cell_type": "markdown",
   "metadata": {},
   "source": [
    "### DeBerta v3 description"
   ]
  },
  {
   "cell_type": "code",
   "execution_count": 20,
   "metadata": {},
   "outputs": [
    {
     "name": "stdout",
     "output_type": "stream",
     "text": [
      "Accuracy: 0.627906976744186\n",
      "Macro-F1 Score: 0.5872171563660925\n",
      "Average Recall: 0.5869090786999731\n"
     ]
    }
   ],
   "source": [
    "X_train_article = pd.read_pickle(root / 'probability/deberta-v3-base_train_prob_bias_description.pkl')\n",
    "X_test_article = pd.read_pickle(root / 'probability/deberta-v3-base_test_prob_bias_description.pkl')\n",
    "X_train, X_test = change_prob_to_zero(X_train, X_test)\n",
    "log_reg(X_train, X_test)"
   ]
  },
  {
   "cell_type": "markdown",
   "metadata": {},
   "source": [
    "### Best model merge"
   ]
  },
  {
   "cell_type": "code",
   "execution_count": 22,
   "metadata": {},
   "outputs": [],
   "source": [
    "X_train_article = pd.read_pickle(root / 'probability/deberta-v3-base_train_prob_bias_article.pkl')\n",
    "X_test_article = pd.read_pickle(root / 'probability/deberta-v3-base_test_prob_bias_article.pkl')"
   ]
  },
  {
   "cell_type": "code",
   "execution_count": 23,
   "metadata": {},
   "outputs": [],
   "source": [
    "X_train_des = pd.read_pickle(root / 'probability/bert-base-uncased_train_prob_bias_description.pkl')\n",
    "X_test_des = pd.read_pickle(root / 'probability/bert-base-uncased_test_prob_bias_description.pkl')"
   ]
  },
  {
   "cell_type": "code",
   "execution_count": 24,
   "metadata": {},
   "outputs": [],
   "source": [
    "def merge_dataset(df, df_1):\n",
    "    df = df.merge(df_1, on=['website', 'target'])\n",
    "    df['left'] = df['left_x'] + df['left_y']\n",
    "    df['right'] = df['right_x'] + df['right_y']\n",
    "    df['center'] = df['center_x'] + df['center_y']\n",
    "    return df[['target', 'website'] + classes]"
   ]
  },
  {
   "cell_type": "code",
   "execution_count": 25,
   "metadata": {},
   "outputs": [],
   "source": [
    "X_train = merge_dataset(X_train_article, X_train_des)\n",
    "X_test = merge_dataset(X_test_article, X_test_des)"
   ]
  },
  {
   "cell_type": "code",
   "execution_count": 26,
   "metadata": {},
   "outputs": [
    {
     "name": "stdout",
     "output_type": "stream",
     "text": [
      "Accuracy: 0.7076023391812866\n",
      "Macro-F1 Score: 0.6824352678056765\n",
      "Average Recall: 0.6685430608656558\n"
     ]
    }
   ],
   "source": [
    "X_train, X_test = change_prob_to_zero(X_train, X_test)\n",
    "log_reg(X_train, X_test)"
   ]
  }
 ],
 "metadata": {
  "kernelspec": {
   "display_name": ".venv",
   "language": "python",
   "name": "python3"
  },
  "language_info": {
   "codemirror_mode": {
    "name": "ipython",
    "version": 3
   },
   "file_extension": ".py",
   "mimetype": "text/x-python",
   "name": "python",
   "nbconvert_exporter": "python",
   "pygments_lexer": "ipython3",
   "version": "3.11.4"
  }
 },
 "nbformat": 4,
 "nbformat_minor": 2
}
