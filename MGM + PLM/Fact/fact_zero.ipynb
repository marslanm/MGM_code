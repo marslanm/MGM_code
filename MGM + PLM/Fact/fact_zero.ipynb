{
 "cells": [
  {
   "cell_type": "code",
   "execution_count": 5,
   "metadata": {},
   "outputs": [],
   "source": [
    "import pandas as pd\n",
    "from sklearn.linear_model import LogisticRegression\n",
    "from pathlib import Path\n",
    "import os\n",
    "import numpy as np\n",
    "import sys\n",
    "from sklearn.metrics import accuracy_score, f1_score, recall_score\n",
    "root = Path(os.getcwd())\n",
    "encoder = {'low': 0, 'mixed': 1, 'high': 2}\n",
    "classes = list(encoder.keys())"
   ]
  },
  {
   "cell_type": "code",
   "execution_count": 6,
   "metadata": {},
   "outputs": [],
   "source": [
    "def change_prob_to_zero(X_train, X_test):\n",
    "    df = pd.read_csv(os.path.join(os.path.dirname(os.getcwd()), 'fact', 'train.csv'))\n",
    "    df_2 = pd.read_pickle(os.path.join(os.path.dirname(os.getcwd()), 'Data', 'article.pkl'))\n",
    "    df_2['website'] = df_2['source_url'].str.strip('https://').str.strip('www.')\n",
    "\n",
    "    to_zero_train = df[~df['website'].isin(df_2['website'])][['website', 'target']]\n",
    "    mask_train = X_train['website'].isin(to_zero_train['website']) & X_train['target'].isin(to_zero_train['target'])\n",
    "\n",
    "    df = pd.read_csv(os.path.join(os.path.dirname(os.getcwd()), 'fact', 'test.csv'))\n",
    "    df_2 = pd.read_pickle(os.path.join(os.path.dirname(os.getcwd()), 'Data', 'article.pkl'))\n",
    "    df_2['website'] = df_2['source_url'].str.strip('https://').str.strip('www.')\n",
    "\n",
    "    to_zero_test = df[~df['website'].isin(df_2['website'])][['website', 'target']]\n",
    "    mask_test = X_test['website'].isin(to_zero_test['website']) & X_test['target'].isin(to_zero_test['target'])\n",
    "    X_train.loc[mask_train, classes] = 0\n",
    "    X_test.loc[mask_test, classes] = 0\n",
    "    return X_train, X_test\n",
    "\n",
    "def log_reg(X_train, X_test):\n",
    "    clf = LogisticRegression()\n",
    "    clf.fit(X_train[classes], X_train['target'])\n",
    "    y_pred = clf.predict(X_test[classes])\n",
    "    y_test = X_test['target']\n",
    "    accuracy = accuracy_score(y_test, y_pred)\n",
    "    macro_f1 = f1_score(y_test, y_pred, average='macro')\n",
    "    avg_recall = recall_score(y_test, y_pred, average='macro')\n",
    "    print(\"Accuracy:\", accuracy)\n",
    "    print(\"Macro-F1 Score:\", macro_f1)\n",
    "    print(\"Average Recall:\", avg_recall)"
   ]
  },
  {
   "cell_type": "markdown",
   "metadata": {},
   "source": [
    "### Bert - article"
   ]
  },
  {
   "cell_type": "code",
   "execution_count": 7,
   "metadata": {},
   "outputs": [
    {
     "name": "stdout",
     "output_type": "stream",
     "text": [
      "Accuracy: 0.622093023255814\n",
      "Macro-F1 Score: 0.3527239511972336\n",
      "Average Recall: 0.3765073060008512\n"
     ]
    }
   ],
   "source": [
    "X_train = pd.read_pickle(root / 'probability/bert-base-uncased_train_prob_fact_article.pkl')\n",
    "X_test = pd.read_pickle(root / 'probability/bert-base-uncased_test_prob_fact_article.pkl')\n",
    "X_train, X_test = change_prob_to_zero(X_train, X_test)\n",
    "log_reg(X_train, X_test)"
   ]
  },
  {
   "cell_type": "markdown",
   "metadata": {},
   "source": [
    "### Bert description"
   ]
  },
  {
   "cell_type": "code",
   "execution_count": 8,
   "metadata": {},
   "outputs": [
    {
     "name": "stdout",
     "output_type": "stream",
     "text": [
      "Accuracy: 0.5930232558139535\n",
      "Macro-F1 Score: 0.3463523061046281\n",
      "Average Recall: 0.37978279030910606\n"
     ]
    }
   ],
   "source": [
    "X_train = pd.read_pickle(root / 'probability/bert-base-uncased_train_prob_fact_description.pkl')\n",
    "X_test = pd.read_pickle(root / 'probability/bert-base-uncased_test_prob_fact_description.pkl')\n",
    "X_train, X_test = change_prob_to_zero(X_train, X_test)\n",
    "log_reg(X_train, X_test)"
   ]
  },
  {
   "cell_type": "markdown",
   "metadata": {},
   "source": [
    "### RoBerta - article"
   ]
  },
  {
   "cell_type": "code",
   "execution_count": 9,
   "metadata": {},
   "outputs": [
    {
     "name": "stdout",
     "output_type": "stream",
     "text": [
      "Accuracy: 0.6337209302325582\n",
      "Macro-F1 Score: 0.3355311355311355\n",
      "Average Recall: 0.3765309500165508\n"
     ]
    }
   ],
   "source": [
    "X_train = pd.read_pickle(root / 'probability/berta-base_train_prob_fact_article.pkl')\n",
    "X_test = pd.read_pickle(root / 'probability/berta-base_test_prob_fact_article.pkl')\n",
    "X_train, X_test = change_prob_to_zero(X_train, X_test)\n",
    "log_reg(X_train, X_test)"
   ]
  },
  {
   "cell_type": "markdown",
   "metadata": {},
   "source": [
    "### RoBerta description"
   ]
  },
  {
   "cell_type": "code",
   "execution_count": 10,
   "metadata": {},
   "outputs": [
    {
     "name": "stdout",
     "output_type": "stream",
     "text": [
      "Accuracy: 0.5930232558139535\n",
      "Macro-F1 Score: 0.4081011657775144\n",
      "Average Recall: 0.40746406245498806\n"
     ]
    }
   ],
   "source": [
    "X_train = pd.read_pickle(root / 'probability/berta-base_train_prob_fact_description.pkl')\n",
    "X_test = pd.read_pickle(root / 'probability/berta-base_test_prob_fact_description.pkl')\n",
    "X_train, X_test = change_prob_to_zero(X_train, X_test)\n",
    "log_reg(X_train, X_test)"
   ]
  },
  {
   "cell_type": "markdown",
   "metadata": {},
   "source": [
    "### Distil Bert - article"
   ]
  },
  {
   "cell_type": "code",
   "execution_count": 11,
   "metadata": {},
   "outputs": [
    {
     "name": "stdout",
     "output_type": "stream",
     "text": [
      "Accuracy: 0.627906976744186\n",
      "Macro-F1 Score: 0.3826945977174118\n",
      "Average Recall: 0.39653378729843475\n"
     ]
    }
   ],
   "source": [
    "X_train = pd.read_pickle(root / 'probability/distilbert-base-uncased_train_prob_fact_article.pkl')\n",
    "X_test = pd.read_pickle(root / 'probability/distilbert-base-uncased_test_prob_fact_article.pkl')\n",
    "X_train, X_test = change_prob_to_zero(X_train, X_test)\n",
    "log_reg(X_train, X_test)"
   ]
  },
  {
   "cell_type": "markdown",
   "metadata": {},
   "source": [
    "### Distil Bert description"
   ]
  },
  {
   "cell_type": "code",
   "execution_count": 12,
   "metadata": {},
   "outputs": [
    {
     "name": "stdout",
     "output_type": "stream",
     "text": [
      "Accuracy: 0.6104651162790697\n",
      "Macro-F1 Score: 0.2527075812274368\n",
      "Average Recall: 0.3333333333333333\n"
     ]
    }
   ],
   "source": [
    "X_train = pd.read_pickle(root / 'probability/distilbert-base-uncased_train_prob_fact_description.pkl')\n",
    "X_test = pd.read_pickle(root / 'probability/distilbert-base-uncased_test_prob_fact_description.pkl')\n",
    "X_train, X_test = change_prob_to_zero(X_train, X_test)\n",
    "log_reg(X_train, X_test)"
   ]
  },
  {
   "cell_type": "markdown",
   "metadata": {},
   "source": [
    "### DeBerta v3 - article"
   ]
  },
  {
   "cell_type": "code",
   "execution_count": 13,
   "metadata": {},
   "outputs": [
    {
     "name": "stdout",
     "output_type": "stream",
     "text": [
      "Accuracy: 0.6104651162790697\n",
      "Macro-F1 Score: 0.2527075812274368\n",
      "Average Recall: 0.3333333333333333\n"
     ]
    }
   ],
   "source": [
    "X_train_article = pd.read_pickle(root / 'probability/deberta-v3-base_train_prob_fact_article.pkl')\n",
    "X_test_article = pd.read_pickle(root / 'probability/deberta-v3-base_test_prob_fact_article.pkl')\n",
    "X_train, X_test = change_prob_to_zero(X_train, X_test)\n",
    "log_reg(X_train, X_test)"
   ]
  },
  {
   "cell_type": "markdown",
   "metadata": {},
   "source": [
    "### DeBerta v3 description"
   ]
  },
  {
   "cell_type": "code",
   "execution_count": 14,
   "metadata": {},
   "outputs": [
    {
     "name": "stdout",
     "output_type": "stream",
     "text": [
      "Accuracy: 0.6104651162790697\n",
      "Macro-F1 Score: 0.2527075812274368\n",
      "Average Recall: 0.3333333333333333\n"
     ]
    }
   ],
   "source": [
    "X_train_article = pd.read_pickle(root / 'probability/deberta-v3-base_train_prob_fact_description.pkl')\n",
    "X_test_article = pd.read_pickle(root / 'probability/deberta-v3-base_test_prob_fact_description.pkl')\n",
    "X_train, X_test = change_prob_to_zero(X_train, X_test)\n",
    "log_reg(X_train, X_test)"
   ]
  },
  {
   "cell_type": "markdown",
   "metadata": {},
   "source": [
    "### Best model merge"
   ]
  },
  {
   "cell_type": "code",
   "execution_count": 15,
   "metadata": {},
   "outputs": [],
   "source": [
    "X_train_article = pd.read_pickle(root / 'probability/bert-base-uncased_train_prob_fact_article.pkl')\n",
    "X_test_article = pd.read_pickle(root / 'probability/bert-base-uncased_test_prob_fact_article.pkl')"
   ]
  },
  {
   "cell_type": "code",
   "execution_count": 16,
   "metadata": {},
   "outputs": [],
   "source": [
    "X_train_des = pd.read_pickle(root / 'probability/deberta-v3-base_train_prob_fact_description.pkl')\n",
    "X_test_des = pd.read_pickle(root / 'probability/deberta-v3-base_test_prob_fact_description.pkl')"
   ]
  },
  {
   "cell_type": "code",
   "execution_count": 17,
   "metadata": {},
   "outputs": [],
   "source": [
    "def merge_dataset(df, df_1):\n",
    "    df = df.merge(df_1, on=['website', 'target'])\n",
    "    df['low'] = df['low_x'] + df['low_y']\n",
    "    df['mixed'] = df['mixed_x'] + df['mixed_y']\n",
    "    df['high'] = df['high_x'] + df['high_y']\n",
    "    df['low'] /=2\n",
    "    df['mixed'] /=2\n",
    "    df['high'] /=2\n",
    "    return df[['target', 'website'] + classes]"
   ]
  },
  {
   "cell_type": "code",
   "execution_count": 18,
   "metadata": {},
   "outputs": [],
   "source": [
    "X_train = merge_dataset(X_train_article, X_train_des)\n",
    "X_test = merge_dataset(X_test_article, X_test_des)"
   ]
  },
  {
   "cell_type": "code",
   "execution_count": 19,
   "metadata": {},
   "outputs": [
    {
     "name": "stdout",
     "output_type": "stream",
     "text": [
      "Accuracy: 0.6257309941520468\n",
      "Macro-F1 Score: 0.364957264957265\n",
      "Average Recall: 0.38512949039264827\n"
     ]
    }
   ],
   "source": [
    "X_train, X_test = change_prob_to_zero(X_train, X_test)\n",
    "log_reg(X_train, X_test)"
   ]
  }
 ],
 "metadata": {
  "kernelspec": {
   "display_name": ".venv",
   "language": "python",
   "name": "python3"
  },
  "language_info": {
   "codemirror_mode": {
    "name": "ipython",
    "version": 3
   },
   "file_extension": ".py",
   "mimetype": "text/x-python",
   "name": "python",
   "nbconvert_exporter": "python",
   "pygments_lexer": "ipython3",
   "version": "3.11.4"
  }
 },
 "nbformat": 4,
 "nbformat_minor": 2
}
